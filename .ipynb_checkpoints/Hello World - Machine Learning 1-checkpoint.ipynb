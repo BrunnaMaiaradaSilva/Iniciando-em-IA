{
 "cells": [
  {
   "cell_type": "markdown",
   "metadata": {},
   "source": [
    "## Supervised Learning "
   ]
  },
  {
   "cell_type": "markdown",
   "metadata": {},
   "source": [
    "## Coleta de Dados\n",
    "\n",
    "O primeiro passo é a coleta de dados para treinamento.\n",
    "\n",
    "Iremos escrever uma função para classicar maçãs e laranjas, iniciaremos com a descrição da fruta como entrada e prever se é uma maçã ou uma laranja, baseando em características como peso e textura.\n",
    "\n",
    "Para coletar nossos dados de treinamento, imagine que você vai a um pomar. Vamos olhar diferentes maçãs e laranjas e anotar características que as descrevem em uma tabela. Em Machine Learning, essas medidas são chamadas de features. Para simplificar, aqui usamos apenas duas- o peso da fruta em gramas e sua textura, que pode ser irregular ou lisa. \n",
    "\n",
    "Uma boa feature facilita a discriminação entre diferentes tipos de frutas."
   ]
  },
  {
   "cell_type": "code",
   "execution_count": 1,
   "metadata": {},
   "outputs": [],
   "source": [
    "import sklearn"
   ]
  },
  {
   "cell_type": "code",
   "execution_count": 8,
   "metadata": {},
   "outputs": [],
   "source": [
    "features = [[140,'smooth'], [130, 'smooth'],[150, 'bumpy'], [170, 'bumpy']] # entradas- peso em gramas e textura\n",
    "labels = ['apple', 'apple', 'orange', 'orange'] #saída- maçã ou laranja"
   ]
  },
  {
   "cell_type": "markdown",
   "metadata": {},
   "source": [
    "Cada linha de nossos dados de treinamento é um exemplo. Descreve uma fruta, a última coluna é chamada de label, identifica que tipo de fruta há em cada linha e existem apenas duas possibilidades - maçãs e laranjas. A tabela inteira são nossos dados de treinamento. Pense neles como todos os exemplos que queremos que o classificador aprenda. Quanto mais dados de treinamento você tiver, melhor será o seu classificador."
   ]
  },
  {
   "cell_type": "markdown",
   "metadata": {},
   "source": [
    "## Treinamento do classificador\n",
    "\n",
    "O segundo passo é usar os exemplos para treinar o classificador"
   ]
  },
  {
   "cell_type": "markdown",
   "metadata": {},
   "source": [
    "Usaremos as variáveis features (que são nossos dados de entrada, inputs, descrevendo características das frutas) e labels (nossos resultados, outputs, que retornam uma fruta de acordo com as características dos inputs).\n",
    "\n",
    "Para facilitar o entendimento para nosso algoritmo, substituiremos características literais por numéricas, usaremos 0 para irregular e 1 para liso. O mesmo será feito em labels, 0 para maçãs e 1 para laranjas. \n",
    "\n",
    "Agora podemos usar esse dados para terinamento de nosso classificador, usaremos uma árvore de decisão, de onde podemos usar várias regras."
   ]
  },
  {
   "cell_type": "code",
   "execution_count": 9,
   "metadata": {},
   "outputs": [],
   "source": [
    "from sklearn import tree #importando tree para criar um classificador"
   ]
  },
  {
   "cell_type": "code",
   "execution_count": 10,
   "metadata": {},
   "outputs": [],
   "source": [
    "features = [[140, 1], [130, 1], [150, 0], [170, 0]] #substituição de smooth por 1 e bumpy por 0\n",
    "labels = [0, 0, 1, 1] #substituição de maçã por 0 e laranja por 1"
   ]
  },
  {
   "cell_type": "code",
   "execution_count": 11,
   "metadata": {},
   "outputs": [],
   "source": [
    "classifier = tree.DecisionTreeClassifier() # variável classificador, ela ainda não sabe nada sobre maçãs e laranjas"
   ]
  },
  {
   "cell_type": "markdown",
   "metadata": {},
   "source": [
    "Para treinar nosso classificador usaremos um algoritmo de aprendizado.\n",
    "\n",
    "Aprender é um processo de criar classes, encontrar padrões nos dados de treinamento e encaixá-los numa classe adequada."
   ]
  },
  {
   "cell_type": "code",
   "execution_count": 12,
   "metadata": {},
   "outputs": [],
   "source": [
    "classifier = classifier.fit(features, labels) #fit"
   ]
  }
 ],
 "metadata": {
  "kernelspec": {
   "display_name": "Python 3",
   "language": "python",
   "name": "python3"
  },
  "language_info": {
   "codemirror_mode": {
    "name": "ipython",
    "version": 3
   },
   "file_extension": ".py",
   "mimetype": "text/x-python",
   "name": "python",
   "nbconvert_exporter": "python",
   "pygments_lexer": "ipython3",
   "version": "3.6.5"
  }
 },
 "nbformat": 4,
 "nbformat_minor": 2
}
